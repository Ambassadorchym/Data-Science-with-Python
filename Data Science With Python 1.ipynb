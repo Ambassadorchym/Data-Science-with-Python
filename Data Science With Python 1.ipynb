{
 "cells": [
  {
   "cell_type": "code",
   "execution_count": null,
   "id": "d7d74bf8",
   "metadata": {},
   "outputs": [],
   "source": [
    "print(\"chinyere\")"
   ]
  },
  {
   "cell_type": "code",
   "execution_count": null,
   "id": "7ac2bf6a",
   "metadata": {},
   "outputs": [],
   "source": [
    "print(\"chinyere_beautiful girl\")"
   ]
  },
  {
   "cell_type": "markdown",
   "id": "025d4c43",
   "metadata": {},
   "source": [
    "# introduction"
   ]
  },
  {
   "cell_type": "code",
   "execution_count": null,
   "id": "f2022a1e",
   "metadata": {},
   "outputs": [],
   "source": [
    "a = 1\n",
    "b = 2\n",
    "print (a+b)"
   ]
  },
  {
   "cell_type": "markdown",
   "id": "cf92d880",
   "metadata": {},
   "source": [
    "## intoduction"
   ]
  },
  {
   "cell_type": "code",
   "execution_count": null,
   "id": "8e537dcf",
   "metadata": {},
   "outputs": [],
   "source": [
    "10**2"
   ]
  },
  {
   "cell_type": "code",
   "execution_count": null,
   "id": "7e9e7ddb",
   "metadata": {},
   "outputs": [],
   "source": [
    "'''\n",
    "Add two numbers \n",
    "and display their output\n",
    "'''"
   ]
  },
  {
   "cell_type": "code",
   "execution_count": null,
   "id": "37b21ec2",
   "metadata": {},
   "outputs": [],
   "source": [
    "a = 10\n",
    "b = 5"
   ]
  },
  {
   "cell_type": "code",
   "execution_count": null,
   "id": "d9fa99cf",
   "metadata": {},
   "outputs": [],
   "source": [
    "type(a+b)"
   ]
  },
  {
   "cell_type": "code",
   "execution_count": null,
   "id": "4afac44a",
   "metadata": {},
   "outputs": [],
   "source": [
    "print(a+b)"
   ]
  },
  {
   "cell_type": "code",
   "execution_count": null,
   "id": "47a65652",
   "metadata": {},
   "outputs": [],
   "source": [
    "10 /2"
   ]
  },
  {
   "cell_type": "code",
   "execution_count": null,
   "id": "59823fe7",
   "metadata": {},
   "outputs": [],
   "source": [
    "10//2"
   ]
  },
  {
   "cell_type": "code",
   "execution_count": null,
   "id": "562e9eef",
   "metadata": {},
   "outputs": [],
   "source": [
    "10/3"
   ]
  },
  {
   "cell_type": "code",
   "execution_count": null,
   "id": "626a054e",
   "metadata": {},
   "outputs": [],
   "source": [
    "10//3"
   ]
  },
  {
   "cell_type": "code",
   "execution_count": null,
   "id": "e4b78c66",
   "metadata": {},
   "outputs": [],
   "source": [
    "10%3"
   ]
  },
  {
   "cell_type": "code",
   "execution_count": null,
   "id": "5698e608",
   "metadata": {},
   "outputs": [],
   "source": [
    "#variable assignment\n",
    "name = 'chuks'\n",
    "print (name)"
   ]
  },
  {
   "cell_type": "code",
   "execution_count": null,
   "id": "6d50b539",
   "metadata": {},
   "outputs": [],
   "source": [
    "print('chinyere\\'s a lady')"
   ]
  },
  {
   "cell_type": "code",
   "execution_count": null,
   "id": "8b43ee09",
   "metadata": {},
   "outputs": [],
   "source": [
    "print ('car'*2)"
   ]
  },
  {
   "cell_type": "code",
   "execution_count": null,
   "id": "de0c6dae",
   "metadata": {},
   "outputs": [],
   "source": [
    "name"
   ]
  },
  {
   "cell_type": "code",
   "execution_count": null,
   "id": "e364f9bb",
   "metadata": {},
   "outputs": [],
   "source": [
    "dir(name)"
   ]
  },
  {
   "cell_type": "code",
   "execution_count": null,
   "id": "9ff873f8",
   "metadata": {},
   "outputs": [],
   "source": [
    "sentence = 'this is data science class'\n",
    "sentence"
   ]
  },
  {
   "cell_type": "code",
   "execution_count": null,
   "id": "3f30e43c",
   "metadata": {},
   "outputs": [],
   "source": [
    "sentence.capitalize()"
   ]
  },
  {
   "cell_type": "code",
   "execution_count": null,
   "id": "0ec87a8f",
   "metadata": {},
   "outputs": [],
   "source": [
    "sentence.title()"
   ]
  },
  {
   "cell_type": "code",
   "execution_count": null,
   "id": "d964f430",
   "metadata": {},
   "outputs": [],
   "source": [
    "sentence.upper()"
   ]
  },
  {
   "cell_type": "code",
   "execution_count": null,
   "id": "f4a3948d",
   "metadata": {},
   "outputs": [],
   "source": [
    "sentence.split()"
   ]
  },
  {
   "cell_type": "code",
   "execution_count": null,
   "id": "bff26f84",
   "metadata": {},
   "outputs": [],
   "source": [
    "sentence.isalpha()"
   ]
  },
  {
   "cell_type": "code",
   "execution_count": null,
   "id": "81c7968a",
   "metadata": {},
   "outputs": [],
   "source": [
    "name.isalpha()"
   ]
  },
  {
   "cell_type": "code",
   "execution_count": null,
   "id": "2db4a43f",
   "metadata": {},
   "outputs": [],
   "source": [
    "sentence.count('is')"
   ]
  },
  {
   "cell_type": "code",
   "execution_count": null,
   "id": "f2d8998e",
   "metadata": {},
   "outputs": [],
   "source": [
    "sentence.count('s')"
   ]
  },
  {
   "cell_type": "code",
   "execution_count": null,
   "id": "b9437e0c",
   "metadata": {},
   "outputs": [],
   "source": [
    "len(name)"
   ]
  },
  {
   "cell_type": "code",
   "execution_count": null,
   "id": "327ea415",
   "metadata": {},
   "outputs": [],
   "source": [
    "#return the number of characters\n",
    "\n",
    "len(sentence)"
   ]
  },
  {
   "cell_type": "code",
   "execution_count": null,
   "id": "04306c59",
   "metadata": {},
   "outputs": [],
   "source": [
    "#\\n move to a new line\n",
    "\n",
    "print('my name is chinyere\\nI am a member of this class')"
   ]
  },
  {
   "cell_type": "code",
   "execution_count": null,
   "id": "5491355b",
   "metadata": {},
   "outputs": [],
   "source": [
    "#\\t goes to a new tab\n",
    "print('my name is chinyere\\tI am a member of this class')"
   ]
  },
  {
   "cell_type": "code",
   "execution_count": null,
   "id": "f928d814",
   "metadata": {},
   "outputs": [],
   "source": [
    "# a small program that returns a perosn's full name\n",
    "f_name = input('what is your first name?>>>')\n",
    "f_name = f_name.capitalize()\n",
    "l_name = input('what is your last name?>>>')\n",
    "l_name = l_name.capitalize()\n",
    "full_name = f_name+ ' ' + l_name\n",
    "print(full_name)"
   ]
  },
  {
   "cell_type": "markdown",
   "id": "cafa1c95",
   "metadata": {},
   "source": [
    "# indexing and slicing"
   ]
  },
  {
   "cell_type": "code",
   "execution_count": null,
   "id": "0d3cce85",
   "metadata": {},
   "outputs": [],
   "source": [
    "country_1 = 'Argentina'\n",
    "country_2 = 'switzerland'\n",
    "country_3 = 'Zimbabwe'\n",
    "print(country_1,country_2,country_3,sep ='\\n')"
   ]
  },
  {
   "cell_type": "code",
   "execution_count": null,
   "id": "927d0be5",
   "metadata": {},
   "outputs": [],
   "source": [
    "country_1[0]"
   ]
  },
  {
   "cell_type": "code",
   "execution_count": null,
   "id": "485680bc",
   "metadata": {},
   "outputs": [],
   "source": [
    "country_1[-3]"
   ]
  },
  {
   "cell_type": "code",
   "execution_count": null,
   "id": "0a733606",
   "metadata": {},
   "outputs": [],
   "source": [
    "country_2[-4]"
   ]
  },
  {
   "cell_type": "code",
   "execution_count": null,
   "id": "7b13f18d",
   "metadata": {},
   "outputs": [],
   "source": [
    "#[start:stop:step]\n",
    "\n",
    "country_3[:]"
   ]
  },
  {
   "cell_type": "code",
   "execution_count": null,
   "id": "8bd3e7c9",
   "metadata": {},
   "outputs": [],
   "source": [
    "country_3[:5]"
   ]
  },
  {
   "cell_type": "code",
   "execution_count": null,
   "id": "86195798",
   "metadata": {},
   "outputs": [],
   "source": [
    "country_3[2:6]"
   ]
  },
  {
   "cell_type": "code",
   "execution_count": null,
   "id": "eb9d9a3f",
   "metadata": {},
   "outputs": [],
   "source": [
    "country_2[4:7]"
   ]
  },
  {
   "cell_type": "code",
   "execution_count": null,
   "id": "f7bfe595",
   "metadata": {},
   "outputs": [],
   "source": [
    "country_2[::2]"
   ]
  },
  {
   "cell_type": "code",
   "execution_count": null,
   "id": "eef6fb6f",
   "metadata": {},
   "outputs": [],
   "source": [
    "sentence"
   ]
  },
  {
   "cell_type": "code",
   "execution_count": null,
   "id": "0d651b67",
   "metadata": {},
   "outputs": [],
   "source": [
    "sentence[2:20:2]"
   ]
  },
  {
   "cell_type": "code",
   "execution_count": null,
   "id": "bbcd3b44",
   "metadata": {},
   "outputs": [],
   "source": [
    "number = '123456789'\n",
    "number"
   ]
  },
  {
   "cell_type": "code",
   "execution_count": null,
   "id": "feda985c",
   "metadata": {},
   "outputs": [],
   "source": [
    "number[2:5:4]"
   ]
  },
  {
   "cell_type": "markdown",
   "id": "51283075",
   "metadata": {},
   "source": [
    "## print formatting"
   ]
  },
  {
   "cell_type": "code",
   "execution_count": null,
   "id": "d620b8fb",
   "metadata": {},
   "outputs": [],
   "source": [
    "name = 'chinyere'\n",
    "age = 20\n",
    "print('my name is',name,'I am',age,'years old')"
   ]
  },
  {
   "cell_type": "code",
   "execution_count": null,
   "id": "4122b1b7",
   "metadata": {},
   "outputs": [],
   "source": [
    "#.formnat\n",
    "print('my name is {} and I am {}years old'.format(name,age))"
   ]
  },
  {
   "cell_type": "code",
   "execution_count": null,
   "id": "7a5e9449",
   "metadata": {},
   "outputs": [],
   "source": [
    "#placeholder\n",
    "print('my name is %s and I am %s years old'%(name,age))"
   ]
  },
  {
   "cell_type": "code",
   "execution_count": null,
   "id": "43a07b78",
   "metadata": {},
   "outputs": [],
   "source": [
    "#placeholder\n",
    "weigh = 70.5\n",
    "height = 5.5\n",
    "print('my name is %s\\nI am %s yaers old \\nI weigh %s\\n and my height is %s\\n')"
   ]
  },
  {
   "cell_type": "code",
   "execution_count": null,
   "id": "2198b75e",
   "metadata": {},
   "outputs": [],
   "source": [
    "name"
   ]
  },
  {
   "cell_type": "code",
   "execution_count": null,
   "id": "8b2ad895",
   "metadata": {},
   "outputs": [],
   "source": [
    "name *2"
   ]
  },
  {
   "cell_type": "markdown",
   "id": "62f514e1",
   "metadata": {},
   "source": [
    "## Data Types\n",
    "- Integer\n",
    "- Float\n",
    "- Booleans\n",
    "- String\n",
    "- List\n",
    "- Tuples\n",
    "- Set\n",
    "- Dictionaries"
   ]
  },
  {
   "cell_type": "code",
   "execution_count": null,
   "id": "3bce78f7",
   "metadata": {},
   "outputs": [],
   "source": [
    "2 + 2"
   ]
  },
  {
   "cell_type": "code",
   "execution_count": null,
   "id": "73c2e7f3",
   "metadata": {},
   "outputs": [],
   "source": [
    "type(2)"
   ]
  },
  {
   "cell_type": "code",
   "execution_count": null,
   "id": "98ace6de",
   "metadata": {},
   "outputs": [],
   "source": [
    "# subtraction\n",
    "16 - 4"
   ]
  },
  {
   "cell_type": "code",
   "execution_count": null,
   "id": "7dd7d885",
   "metadata": {},
   "outputs": [],
   "source": [
    "4 - 16"
   ]
  },
  {
   "cell_type": "code",
   "execution_count": null,
   "id": "6249433d",
   "metadata": {},
   "outputs": [],
   "source": [
    "# division\n",
    "4/ 2"
   ]
  },
  {
   "cell_type": "code",
   "execution_count": null,
   "id": "32797354",
   "metadata": {},
   "outputs": [],
   "source": [
    "89 /4"
   ]
  },
  {
   "cell_type": "code",
   "execution_count": null,
   "id": "08a2a0b0",
   "metadata": {},
   "outputs": [],
   "source": [
    "#floor division\n",
    "89 // 6\n"
   ]
  },
  {
   "cell_type": "code",
   "execution_count": null,
   "id": "5477b0d0",
   "metadata": {},
   "outputs": [],
   "source": [
    "89 //4"
   ]
  },
  {
   "cell_type": "code",
   "execution_count": null,
   "id": "302c3f88",
   "metadata": {},
   "outputs": [],
   "source": [
    "# modulo division\n",
    "89 % 6"
   ]
  },
  {
   "cell_type": "code",
   "execution_count": null,
   "id": "f2bd9f26",
   "metadata": {},
   "outputs": [],
   "source": [
    "# multiplication\n",
    "2*4"
   ]
  },
  {
   "cell_type": "code",
   "execution_count": null,
   "id": "68b78e13",
   "metadata": {},
   "outputs": [],
   "source": [
    "56 *2"
   ]
  },
  {
   "cell_type": "code",
   "execution_count": null,
   "id": "e9b1ce86",
   "metadata": {},
   "outputs": [],
   "source": []
  },
  {
   "cell_type": "code",
   "execution_count": null,
   "id": "254d6ca9",
   "metadata": {},
   "outputs": [],
   "source": []
  },
  {
   "cell_type": "code",
   "execution_count": null,
   "id": "f99b6655",
   "metadata": {},
   "outputs": [],
   "source": []
  },
  {
   "cell_type": "code",
   "execution_count": null,
   "id": "68854cab",
   "metadata": {
    "scrolled": true
   },
   "outputs": [],
   "source": []
  },
  {
   "cell_type": "code",
   "execution_count": null,
   "id": "9b46f85c",
   "metadata": {},
   "outputs": [],
   "source": []
  },
  {
   "cell_type": "code",
   "execution_count": null,
   "id": "70abff83",
   "metadata": {},
   "outputs": [],
   "source": []
  },
  {
   "cell_type": "code",
   "execution_count": null,
   "id": "6dac5384",
   "metadata": {},
   "outputs": [],
   "source": []
  },
  {
   "cell_type": "code",
   "execution_count": null,
   "id": "83bdbf5f",
   "metadata": {},
   "outputs": [],
   "source": []
  },
  {
   "cell_type": "code",
   "execution_count": null,
   "id": "3e8af2a0",
   "metadata": {},
   "outputs": [],
   "source": []
  },
  {
   "cell_type": "code",
   "execution_count": null,
   "id": "f1ea7fbc",
   "metadata": {},
   "outputs": [],
   "source": []
  },
  {
   "cell_type": "code",
   "execution_count": null,
   "id": "03d8e475",
   "metadata": {},
   "outputs": [],
   "source": []
  },
  {
   "cell_type": "code",
   "execution_count": null,
   "id": "a4137350",
   "metadata": {},
   "outputs": [],
   "source": []
  },
  {
   "cell_type": "code",
   "execution_count": null,
   "id": "d631c294",
   "metadata": {},
   "outputs": [],
   "source": []
  },
  {
   "cell_type": "code",
   "execution_count": null,
   "id": "140fbabe",
   "metadata": {},
   "outputs": [],
   "source": []
  },
  {
   "cell_type": "code",
   "execution_count": null,
   "id": "b9d3a859",
   "metadata": {},
   "outputs": [],
   "source": []
  },
  {
   "cell_type": "code",
   "execution_count": null,
   "id": "bd030920",
   "metadata": {},
   "outputs": [],
   "source": []
  },
  {
   "cell_type": "code",
   "execution_count": null,
   "id": "91c86b0a",
   "metadata": {},
   "outputs": [],
   "source": []
  },
  {
   "cell_type": "code",
   "execution_count": null,
   "id": "dac63a9e",
   "metadata": {},
   "outputs": [],
   "source": []
  },
  {
   "cell_type": "code",
   "execution_count": null,
   "id": "8e5a7eb8",
   "metadata": {},
   "outputs": [],
   "source": []
  },
  {
   "cell_type": "code",
   "execution_count": null,
   "id": "93befe13",
   "metadata": {},
   "outputs": [],
   "source": []
  },
  {
   "cell_type": "code",
   "execution_count": null,
   "id": "651c6e7d",
   "metadata": {},
   "outputs": [],
   "source": []
  },
  {
   "cell_type": "code",
   "execution_count": null,
   "id": "e4e6d97f",
   "metadata": {},
   "outputs": [],
   "source": []
  }
 ],
 "metadata": {
  "kernelspec": {
   "display_name": "Python 3",
   "language": "python",
   "name": "python3"
  },
  "language_info": {
   "codemirror_mode": {
    "name": "ipython",
    "version": 3
   },
   "file_extension": ".py",
   "mimetype": "text/x-python",
   "name": "python",
   "nbconvert_exporter": "python",
   "pygments_lexer": "ipython3",
   "version": "3.8.8"
  }
 },
 "nbformat": 4,
 "nbformat_minor": 5
}
